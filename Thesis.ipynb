{
 "cells": [
  {
   "cell_type": "code",
   "execution_count": 2,
   "id": "bc5cb5f6-cb75-4e42-b615-53747d423418",
   "metadata": {},
   "outputs": [],
   "source": ""
  },
  {
   "cell_type": "code",
   "execution_count": 3,
   "id": "b115a499-4f6c-4a34-b49d-b20312cef87e",
   "metadata": {},
   "outputs": [],
   "source": [
    "def genEphemeralParameter(n, g):\n",
    "    s = randint(1, n)\n",
    "    while True:\n",
    "        parameter = s * g\n",
    "        s = randint(1, n)\n",
    "        if 0 < int(parameter[0]) * 256 + int(parameter[1]) < n:\n",
    "            return parameter"
   ]
  },
  {
   "cell_type": "code",
   "execution_count": 3,
   "id": "d16485de-ee33-4563-adbc-da12ddc39572",
   "metadata": {},
   "outputs": [],
   "source": [
    "# def getParameterLastSession():"
   ]
  },
  {
   "cell_type": "code",
   "execution_count": 4,
   "id": "5093dc82-7ce0-4526-b370-c9d0bb1f218c",
   "metadata": {},
   "outputs": [],
   "source": [
    "def calculate_sha256(data):\n",
    "    if isinstance(data,str):\n",
    "        data=data.encode()\n",
    "    sha256_hash=hashlib.sha256(data).hexdigest()\n",
    "    return sha256_hash"
   ]
  },
  {
   "cell_type": "code",
   "execution_count": 5,
   "id": "74843191-0c3a-46c8-9564-36d17006b90e",
   "metadata": {},
   "outputs": [],
   "source": [
    "def _convert_to_bytes(digest_input: Union[bytes, str], arg_name: str) -> bytes:\n",
    "    \"\"\"\n",
    "    Helper function to convert input (hex string or bytes) to validated bytes.\n",
    "\n",
    "    Args:\n",
    "        digest_input: The input digest (bytes or hex string).\n",
    "        arg_name: The name of the argument being processed (for error messages).\n",
    "\n",
    "    Returns:\n",
    "        The digest as a bytes object.\n",
    "\n",
    "    Raises:\n",
    "        TypeError: If input is not bytes or string.\n",
    "        ValueError: If string input is not valid hex, or if the resulting\n",
    "                    bytes are not exactly 32 bytes long.\n",
    "    \"\"\"\n",
    "    _SHA256_DIGEST_LENGTH = 32\n",
    "    if isinstance(digest_input, str):\n",
    "        if len(digest_input) != _SHA256_DIGEST_LENGTH * 2:\n",
    "             raise ValueError(\n",
    "                f\"Argument '{arg_name}' (string) must be \"\n",
    "                f\"{_SHA256_DIGEST_LENGTH * 2} characters long for a SHA-256 hex digest, \"\n",
    "                f\"but got {len(digest_input)} characters.\"\n",
    "            )\n",
    "        try:\n",
    "            digest_bytes = bytes.fromhex(digest_input)\n",
    "        except ValueError:\n",
    "            raise ValueError(\n",
    "                f\"Argument '{arg_name}' is a string but not valid hexadecimal.\"\n",
    "            ) from None # Suppress original error chain for clarity\n",
    "    elif isinstance(digest_input, bytes):\n",
    "        if len(digest_input) != _SHA256_DIGEST_LENGTH:\n",
    "            raise ValueError(\n",
    "                f\"Argument '{arg_name}' (bytes) must be {_SHA256_DIGEST_LENGTH} bytes long \"\n",
    "                f\"(SHA-256 digest length), but got {len(digest_input)} bytes.\"\n",
    "            )\n",
    "        digest_bytes = digest_input\n",
    "    else:\n",
    "        raise TypeError(\n",
    "            f\"Argument '{arg_name}' must be bytes or a hex string, \"\n",
    "            f\"not {type(digest_input).__name__}\"\n",
    "        )\n",
    "\n",
    "    # This check is technically redundant now due to checks above, but is a good safeguard\n",
    "    # assert len(digest_bytes) == _SHA256_DIGEST_LENGTH, \"Internal length validation failed\"\n",
    "    return digest_bytes"
   ]
  },
  {
   "cell_type": "code",
   "execution_count": 6,
   "id": "6be05552-fed5-4c09-95e1-70b3826a306d",
   "metadata": {},
   "outputs": [],
   "source": [
    "def xor_sha256_digests(digest1: Union[bytes, str], digest2: Union[bytes, str]):\n",
    "    bytes1 = _convert_to_bytes(digest1, 'digest1')\n",
    "    bytes2 = _convert_to_bytes(digest2, 'digest2')\n",
    "\n",
    "    xor_result = bytes(b1 ^^ b2 for b1, b2 in zip(bytes1, bytes2))\n",
    "\n",
    "    return xor_result.hex()"
   ]
  },
  {
   "cell_type": "code",
   "execution_count": 7,
   "id": "11b908c1-c2cf-4ab7-8f19-8cf19438aefb",
   "metadata": {},
   "outputs": [],
   "source": [
    "def create_ASCII_map(parameter, g):\n",
    "    ASCIIMap = []\n",
    "    for i in range(256):\n",
    "        ASCIIMap.append((i, (parameter[0] * i + parameter[1]) * g))\n",
    "    return ASCIIMap"
   ]
  },
  {
   "cell_type": "code",
   "execution_count": 8,
   "id": "9077c1a7-0afc-465a-b7a8-b2b863277277",
   "metadata": {},
   "outputs": [],
   "source": [
    "def encode(message, table):\n",
    "    encodeMess = []\n",
    "    for letter in message:\n",
    "        encodeMess.append(table[ord(letter)][1])\n",
    "    return encodeMess"
   ]
  },
  {
   "cell_type": "code",
   "execution_count": 9,
   "id": "961b04a0-104f-426e-aab9-19e8c04b0403",
   "metadata": {},
   "outputs": [],
   "source": [
    "def decode(Pm, table):\n",
    "    message = []\n",
    "    for i in Pm:\n",
    "        for j in table:\n",
    "            if i == j[1]:\n",
    "                message.append(j[0])\n",
    "    return ''.join(map(chr,message))"
   ]
  },
  {
   "cell_type": "code",
   "execution_count": 10,
   "id": "690fb76f-8243-4ad2-862e-3a5494e189ed",
   "metadata": {},
   "outputs": [],
   "source": [
    "def createRandomMessage(bit, quantity):\n",
    "    list = []\n",
    "    for i in range(quantity):\n",
    "        characters = string.ascii_letters + string.digits\n",
    "        random_string = ''.join(random.choices(characters, k= bit / 8))\n",
    "        list.append(random_string)\n",
    "    return list"
   ]
  },
  {
   "cell_type": "markdown",
   "id": "2b30b9af-e0ef-4a7e-bf9e-a427aa06e2b7",
   "metadata": {},
   "source": [
    "4.1. α and β generation phase <br>\n",
    " In this step, Alice use the point generator G and the order of the selected curve.<br>\n",
    " (i) Alice chooses randomly an integer s where s [ [0, n - 1].<br>\n",
    " (ii) Alice performs s∗G = (x, y).<br>\n",
    " (iii) Alice verifies x and y with the following condition: ((x* Max ASCII Code) + y) ∈ [0, n - 1] where Max ASCII Code=256.<br>\n",
    " (iv) If x and y verify the condition, then a = x and b = y , else we go to step 1 and repeat the process until we get the best α and β."
   ]
  },
  {
   "cell_type": "code",
   "execution_count": 11,
   "id": "7a083353-f743-4a84-a94b-4845bfe17bc6",
   "metadata": {},
   "outputs": [],
   "source": [
    "p = 100000000000000000039\n",
    "a = 0\n",
    "b = 7"
   ]
  },
  {
   "cell_type": "code",
   "execution_count": 13,
   "id": "57bdd715-97fc-46ec-bd92-08e67dc767a2",
   "metadata": {},
   "outputs": [
    {
     "data": {
      "text/plain": [
       "(69496283786894253888 : 58916120834459954240 : 1)"
      ]
     },
     "execution_count": 13,
     "metadata": {},
     "output_type": "execute_result"
    }
   ],
   "source": [
    "E = EllipticCurve(GF(p),[a, b])\n",
    "G = E.gens()\n",
    "g = E.point(G[0])\n",
    "n = g.order(); g"
   ]
  },
  {
   "cell_type": "code",
   "execution_count": 14,
   "id": "a5f13dfc-b796-4219-a30e-bb9b91d75635",
   "metadata": {},
   "outputs": [
    {
     "data": {
      "text/plain": [
       "50000000008969935366"
      ]
     },
     "execution_count": 14,
     "metadata": {},
     "output_type": "execute_result"
    }
   ],
   "source": [
    "n"
   ]
  },
  {
   "cell_type": "code",
   "execution_count": 15,
   "id": "6e3162a3-46c5-4eac-b331-8910821295db",
   "metadata": {},
   "outputs": [],
   "source": [
    "kA = randint(1, n)\n",
    "QA = kA * g\n",
    "\n",
    "kB = randint(1, n)\n",
    "QB = kB * g"
   ]
  },
  {
   "cell_type": "code",
   "execution_count": 16,
   "id": "28dbad2d-a840-4045-be93-f1df6bdb2cd0",
   "metadata": {},
   "outputs": [
    {
     "data": {
      "text/plain": [
       "17234869679141697959"
      ]
     },
     "execution_count": 16,
     "metadata": {},
     "output_type": "execute_result"
    }
   ],
   "source": [
    "kA"
   ]
  },
  {
   "cell_type": "code",
   "execution_count": 17,
   "id": "1704eb18-bf70-473d-b90b-12408cd68ebf",
   "metadata": {},
   "outputs": [
    {
     "data": {
      "text/plain": [
       "32426097915697275469"
      ]
     },
     "execution_count": 17,
     "metadata": {},
     "output_type": "execute_result"
    }
   ],
   "source": [
    "kB"
   ]
  },
  {
   "cell_type": "code",
   "execution_count": 18,
   "id": "a5f62027-1291-4fe1-8207-1baa4b3855c0",
   "metadata": {},
   "outputs": [
    {
     "data": {
      "text/plain": [
       "(24148284530724724990 : 89237694802055227180 : 1)"
      ]
     },
     "execution_count": 18,
     "metadata": {},
     "output_type": "execute_result"
    }
   ],
   "source": [
    "QA"
   ]
  },
  {
   "cell_type": "code",
   "execution_count": 19,
   "id": "556e2951-4563-4965-b6e9-ac315a8a36f8",
   "metadata": {},
   "outputs": [
    {
     "data": {
      "text/plain": [
       "(67119382834134792199 : 71328156358363944895 : 1)"
      ]
     },
     "execution_count": 19,
     "metadata": {},
     "output_type": "execute_result"
    }
   ],
   "source": [
    "QB"
   ]
  },
  {
   "cell_type": "code",
   "execution_count": 20,
   "id": "fdba83cf-5a56-4715-baab-58b7708ead98",
   "metadata": {},
   "outputs": [
    {
     "data": {
      "text/plain": [
       "(125929319290300242 : 7491963579492646982 : 1)"
      ]
     },
     "execution_count": 20,
     "metadata": {},
     "output_type": "execute_result"
    }
   ],
   "source": [
    "ephemeral = genEphemeralParameter(n, g); ephemeral"
   ]
  },
  {
   "cell_type": "code",
   "execution_count": 21,
   "id": "872334a4-979d-47c0-9dc2-78facd08aadc",
   "metadata": {},
   "outputs": [
    {
     "data": {
      "text/plain": [
       "(44522709707356346 : 23226884570579358018 : 1)"
      ]
     },
     "execution_count": 21,
     "metadata": {},
     "output_type": "execute_result"
    }
   ],
   "source": [
    "ephemeralLastSession = genEphemeralParameter(n, g); ephemeralLastSession"
   ]
  },
  {
   "cell_type": "markdown",
   "id": "79e95f3f-e769-4ebd-bfe4-2e51dd521ca7",
   "metadata": {},
   "source": [
    " 4.2. α and β transmission and the mutual authentication phase \n",
    " Alice Side:\n",
    " - First, Alice selects a random integer r, then performs C1 = r ∗ G and C2 = r ∗ QB +(α,β) to get C = (C1, C2).\n",
    " - Second, Alice performs h1=hash (C ∥ (α, β)lastsession ), (α, β)lastsession are the encoding parameters of last session.\n",
    " - Finally, Alice sends Bob C and h1"
   ]
  },
  {
   "cell_type": "code",
   "execution_count": 22,
   "id": "61695c15-1946-441e-bf69-87ba09eafc8e",
   "metadata": {},
   "outputs": [],
   "source": [
    "r = randint(1, n)\n",
    "C1 = r * g\n",
    "C2 = r * QB + ephemeral\n",
    "C = (C1, C2)\n",
    "h1 = calculate_sha256(f\"{C}|{ephemeralLastSession}\")"
   ]
  },
  {
   "cell_type": "code",
   "execution_count": 23,
   "id": "b4131dad-a00c-41a0-a997-d30b406460f0",
   "metadata": {},
   "outputs": [
    {
     "data": {
      "text/plain": [
       "(5405829232180582341 : 72620887608343965895 : 1)"
      ]
     },
     "execution_count": 23,
     "metadata": {},
     "output_type": "execute_result"
    }
   ],
   "source": [
    "C1"
   ]
  },
  {
   "cell_type": "code",
   "execution_count": 24,
   "id": "984a5e15-b659-4f59-94d8-1af708237d7d",
   "metadata": {},
   "outputs": [
    {
     "data": {
      "text/plain": [
       "'1bad007a3c02584516caa7d93a89bd0393147876500925e45810fa53f17226a7'"
      ]
     },
     "execution_count": 24,
     "metadata": {},
     "output_type": "execute_result"
    }
   ],
   "source": [
    "h1"
   ]
  },
  {
   "cell_type": "code",
   "execution_count": 25,
   "id": "4fd830e6-10f8-454a-a8d4-ceb568e62e98",
   "metadata": {},
   "outputs": [
    {
     "data": {
      "text/plain": [
       "(83191304044977708726 : 9188903516077432223 : 1)"
      ]
     },
     "execution_count": 25,
     "metadata": {},
     "output_type": "execute_result"
    }
   ],
   "source": [
    "C2"
   ]
  },
  {
   "cell_type": "markdown",
   "id": "de5fc8c8-0291-43cf-a914-a1d34db3682d",
   "metadata": {},
   "source": [
    "Bob Side:\n",
    " When Bob gets the message:\n",
    " - First, Bob decrypts C to get (α, β) by computing M = KB∗C1 = r∗KB∗G the C2 −M=r∗QB+(a,b)−r∗KB∗G =(a, b).\n",
    " - Second Bob calculates h2= hash (C ∥ (α, β)lastsession ) and compares h1 and h2.\n",
    " - If h1 match h2, Bob authenticates Alice and he concludes the integrity of (α, β) and then generates the ASCII map table using α and β.\n",
    " - Third, Bob calculates h3=hash ((α, β)) then performs h3 ⊕ h1 = CH1.\n",
    " - Finally, Bob sends CH1 to Alice."
   ]
  },
  {
   "cell_type": "code",
   "execution_count": 26,
   "id": "dbc7f9f4-7a5f-464f-b1ca-7922141aecaf",
   "metadata": {},
   "outputs": [],
   "source": [
    "M = kB * C[0]\n",
    "parameterB = C[1] - M\n",
    "h2 = calculate_sha256(f\"{C}|{ephemeralLastSession}\")\n",
    "if h1 == h2:\n",
    "    tableB = create_ASCII_map(parameterB, g)\n",
    "    h3 = calculate_sha256(f\"{parameterB}\")\n",
    "    CH1 = xor_sha256_digests(h1, h3)"
   ]
  },
  {
   "cell_type": "code",
   "execution_count": 30,
   "id": "a7d38b9c-ba03-4183-9e72-581bb8134841",
   "metadata": {},
   "outputs": [
    {
     "data": {
      "text/plain": [
       "(20167080408120019994 : 73521288540533939090 : 1)"
      ]
     },
     "execution_count": 30,
     "metadata": {},
     "output_type": "execute_result"
    }
   ],
   "source": [
    "M"
   ]
  },
  {
   "cell_type": "code",
   "execution_count": 27,
   "id": "adbbb73b-8a3b-4612-94d7-a7cbf6da4747",
   "metadata": {},
   "outputs": [
    {
     "data": {
      "text/plain": [
       "'1bad007a3c02584516caa7d93a89bd0393147876500925e45810fa53f17226a7'"
      ]
     },
     "execution_count": 27,
     "metadata": {},
     "output_type": "execute_result"
    }
   ],
   "source": [
    "h2"
   ]
  },
  {
   "cell_type": "code",
   "execution_count": 28,
   "id": "c6efc197-8e74-4246-99a3-1e34f083e59a",
   "metadata": {},
   "outputs": [
    {
     "data": {
      "text/plain": [
       "'bc3a9368484267de0881392b4535cbb7f31246ba28010caa82f75696f1ececd1'"
      ]
     },
     "execution_count": 28,
     "metadata": {},
     "output_type": "execute_result"
    }
   ],
   "source": [
    "h3"
   ]
  },
  {
   "cell_type": "code",
   "execution_count": 29,
   "id": "cee3da58-39a3-40f8-a88d-28ab849c33c7",
   "metadata": {},
   "outputs": [
    {
     "data": {
      "text/plain": [
       "'a797931274403f9b1e4b9ef27fbc76b460063ecc7808294edae7acc5009eca76'"
      ]
     },
     "execution_count": 29,
     "metadata": {},
     "output_type": "execute_result"
    }
   ],
   "source": [
    "CH1"
   ]
  },
  {
   "cell_type": "markdown",
   "id": "7cb7e8ce-b676-41cd-9e2e-aabed48642fb",
   "metadata": {},
   "source": [
    "Alice Side: When Alice receives CH1:\n",
    " - First, she executes h4= hash ((α, β)).\n",
    " - Then, she performs CH2= h1 ⊕ CH1. if CH2 matches h4, Alice authenticates Bob and she is sure that Bob get the correct (α, β).\n",
    " - After that, she uses α and β to generate the ASCII-map table"
   ]
  },
  {
   "cell_type": "code",
   "execution_count": 31,
   "id": "6ca82275-42cf-45b1-bf0f-a8712408d9f3",
   "metadata": {},
   "outputs": [
    {
     "name": "stdout",
     "output_type": "stream",
     "text": [
      "authenticate\n"
     ]
    }
   ],
   "source": [
    "h4 = calculate_sha256(f\"{ephemeral}\")\n",
    "CH2 = xor_sha256_digests(h1, CH1)\n",
    "if CH2 == h4:\n",
    "    print(\"authenticate\")\n",
    "    tableA = create_ASCII_map(ephemeral, g)"
   ]
  },
  {
   "cell_type": "code",
   "execution_count": 32,
   "id": "d82327f4-2a69-43fe-bf9e-0d5abb2217e5",
   "metadata": {},
   "outputs": [
    {
     "data": {
      "text/plain": [
       "'bc3a9368484267de0881392b4535cbb7f31246ba28010caa82f75696f1ececd1'"
      ]
     },
     "execution_count": 32,
     "metadata": {},
     "output_type": "execute_result"
    }
   ],
   "source": [
    "h4"
   ]
  },
  {
   "cell_type": "code",
   "execution_count": 33,
   "id": "71abba57-6823-4245-8a65-95ba830a0918",
   "metadata": {},
   "outputs": [
    {
     "data": {
      "text/plain": [
       "'bc3a9368484267de0881392b4535cbb7f31246ba28010caa82f75696f1ececd1'"
      ]
     },
     "execution_count": 33,
     "metadata": {},
     "output_type": "execute_result"
    }
   ],
   "source": [
    "CH2"
   ]
  },
  {
   "cell_type": "markdown",
   "id": "116b76cc-a0b1-4c76-b405-60f017baeca4",
   "metadata": {},
   "source": [
    "1. Tấn công Man-in-the-Middle (MitM) cố gắng thay đổi C <br>\n",
    "Kịch bản tấn công: Giả định kẻ tấn công (Eve) có khả năng chặn và sửa đổi thông điệp trao đổi giữa Alice và Bob. Khi Alice gửi cặp (C, h1) cho Bob, Eve can thiệp, thay đổi C = (C1, C2) thành C′ = (C′1, C′2) nhưng giữ nguyên h1 (hoặc không thể tính\n",
    "toán h′1 tương ứng với C′ và (α, β)lastsession do không sở hữu (α, β)lastsession). Eve sau đó chuyển tiếp (C′, h1) đến Bob."
   ]
  },
  {
   "cell_type": "code",
   "execution_count": 86,
   "id": "6bd31e3b-6bd5-4425-aee7-f00f4424b22e",
   "metadata": {},
   "outputs": [],
   "source": [
    "C1fake = E.point((30824315891190531571 , 16191521185314524171))\n",
    "C2fake = E.point((62242932543577517545 , 93029969937313491867 ))\n",
    "Cfake = (C1fake, C2fake )\n",
    "h2_Mith = calculate_sha256(f\"{Cfake}|{ephemeralLastSession}\")"
   ]
  },
  {
   "cell_type": "code",
   "execution_count": 87,
   "id": "b775aa0b-4d55-44d8-91b9-f039a40fde28",
   "metadata": {},
   "outputs": [
    {
     "data": {
      "text/plain": [
       "'cdc27ff9680cd0abeedf6cbcd037325482bf1b1cd210535047c148dcb60c18c5'"
      ]
     },
     "execution_count": 87,
     "metadata": {},
     "output_type": "execute_result"
    }
   ],
   "source": [
    "h2_Mith"
   ]
  },
  {
   "cell_type": "markdown",
   "id": "4b3b37e5-bde5-4eab-bc2e-3308cf4ffe50",
   "metadata": {},
   "source": [
    "2. Tấn công phát lại (Replay Attack) đơn giản <br>\n",
    "Kịch bản tấn công: Kẻ tấn công Eve thu thập một cặp (C, h1) hợp lệ từ một phiên trao đổi trước đó giữa Alice và Bob. Ở một phiên làm việc sau, Eve cố gắng gửi lại cặp (C, h1) này cho Bob."
   ]
  },
  {
   "cell_type": "code",
   "execution_count": 34,
   "id": "7ba1f1a5-01ff-498d-9c40-1af64d3d30f7",
   "metadata": {},
   "outputs": [
    {
     "data": {
      "text/plain": [
       "'1bad007a3c02584516caa7d93a89bd0393147876500925e45810fa53f17226a7'"
      ]
     },
     "execution_count": 34,
     "metadata": {},
     "output_type": "execute_result"
    }
   ],
   "source": [
    "h1"
   ]
  },
  {
   "cell_type": "code",
   "execution_count": 35,
   "id": "c1d98ac6-a338-4efc-b423-018026d2b4c1",
   "metadata": {},
   "outputs": [
    {
     "data": {
      "text/plain": [
       "'3af7e25e7557dbba91cfbfcc81cdd24f9019790066d610cd90224b4db12b7c5a'"
      ]
     },
     "execution_count": 35,
     "metadata": {},
     "output_type": "execute_result"
    }
   ],
   "source": [
    "h2_Replay = calculate_sha256(f\"{C}|{parameterB}\"); h2_Replay"
   ]
  },
  {
   "cell_type": "markdown",
   "id": "68082e48-a834-4f19-bebb-849a3385151c",
   "metadata": {},
   "source": [
    "3. Mô phỏng kẻ tấn công không có khóa bí mật của Bob cố gắng giả mạo Bob <br>\n",
    "Kịch bản tấn công: Eve chặn cặp (C, h1) do Alice gửi. Eve không sở hữu khóa bí mật kB của Bob, do đó không thể giải mã C để thu được cặp (α, β) chính xác mà Alice đã mã hóa. Để giả mạo Bob, Eve tạo ra một thông điệp CH′1 gửi lại cho Alice.\n",
    "Giả sử Eve tạo ra một cặp (α′, β′) ngẫu nhiên hoặc dựa trên một phỏng đoán nào đó và tính h′3 = hash((α′, β′)). Sau đó, Eve tính CH′1 = h′3 ⊕ h1 (trong đó h1 là giá trị Eve chặn được) và gửi CH′1 cho Alice."
   ]
  },
  {
   "cell_type": "code",
   "execution_count": 36,
   "id": "ae44a623-ba52-4883-b78e-c5d6f03823bb",
   "metadata": {},
   "outputs": [
    {
     "data": {
      "text/plain": [
       "(10933699806426560872 : 75750767755776949727 : 1)"
      ]
     },
     "execution_count": 36,
     "metadata": {},
     "output_type": "execute_result"
    }
   ],
   "source": [
    "fakeparameter = randint(1, n) * g; fakeparameter"
   ]
  },
  {
   "cell_type": "code",
   "execution_count": 37,
   "id": "f233f1f9-7f6a-443d-b23f-3df113ac0ba5",
   "metadata": {},
   "outputs": [
    {
     "data": {
      "text/plain": [
       "'42234c900c2b650b9504621e4fa3d85206ba49c3d93c2d46751f573589a5ad4d'"
      ]
     },
     "execution_count": 37,
     "metadata": {},
     "output_type": "execute_result"
    }
   ],
   "source": [
    "h3fake = calculate_sha256(f\"{fakeparameter}\"); h3fake"
   ]
  },
  {
   "cell_type": "code",
   "execution_count": 38,
   "id": "d4a2fe87-e847-4f34-9a33-65d2b2738500",
   "metadata": {},
   "outputs": [
    {
     "data": {
      "text/plain": [
       "'598e4cea30293d4e83cec5c7752a655195ae31b5893508a22d0fad6678d78bea'"
      ]
     },
     "execution_count": 38,
     "metadata": {},
     "output_type": "execute_result"
    }
   ],
   "source": [
    "CH1fake = xor_sha256_digests(h1, h3fake); CH1fake"
   ]
  },
  {
   "cell_type": "code",
   "execution_count": 39,
   "id": "dbb82194-e7ff-4fd4-8e13-630c8db56fec",
   "metadata": {},
   "outputs": [
    {
     "data": {
      "text/plain": [
       "'42234c900c2b650b9504621e4fa3d85206ba49c3d93c2d46751f573589a5ad4d'"
      ]
     },
     "execution_count": 39,
     "metadata": {},
     "output_type": "execute_result"
    }
   ],
   "source": [
    "CH2S = xor_sha256_digests(h1, CH1fake); CH2S"
   ]
  },
  {
   "cell_type": "code",
   "execution_count": 40,
   "id": "ba8a9ebe-51dc-427d-8d32-7c18ed59e959",
   "metadata": {},
   "outputs": [
    {
     "data": {
      "text/plain": [
       "'bc3a9368484267de0881392b4535cbb7f31246ba28010caa82f75696f1ececd1'"
      ]
     },
     "execution_count": 40,
     "metadata": {},
     "output_type": "execute_result"
    }
   ],
   "source": [
    "h4"
   ]
  },
  {
   "cell_type": "code",
   "execution_count": null,
   "id": "95acb481-d5ac-406c-b502-2f9fca28a71d",
   "metadata": {},
   "outputs": [],
   "source": [
    "def encrytion(message, n, g, QB, table):\n",
    "    randomNum = randint(1, n)\n",
    "    Pm = encode(message, table)\n",
    "    # encrytion\n",
    "    E = []\n",
    "    E1 = randomNum * g\n",
    "    for pm in Pm:\n",
    "        E2 = randomNum * QB + pm\n",
    "        E.append((E1, E2))\n",
    "    return E"
   ]
  },
  {
   "cell_type": "code",
   "execution_count": null,
   "id": "64dd371a-d57a-45cf-abeb-15f2884d2a2b",
   "metadata": {},
   "outputs": [],
   "source": [
    "def decrytion(E, table, kB):\n",
    "    Pm = []\n",
    "    for e in E:\n",
    "        M = kB * e[0]\n",
    "        Pm.append(e[1] - M)\n",
    "    return decode(Pm, table)"
   ]
  },
  {
   "cell_type": "code",
   "execution_count": null,
   "id": "d5d1b487-06b3-4a64-aafe-08f8ec7314bc",
   "metadata": {},
   "outputs": [],
   "source": [
    "def test(bit, quantity):\n",
    "    encrytionTime = 0\n",
    "    decrytionTime = 0\n",
    "\n",
    "    messages = createRandomMessage(bit, quantity)\n",
    "    ephemeral = genEphemeralParameter(n, g)\n",
    "    ephemeralLastSession = ephemeral \n",
    "            \n",
    "    r = randint(1, n)\n",
    "    C1 = r * g\n",
    "    C2 = r * QB + ephemeral\n",
    "    C = (C1, C2)\n",
    "    h1 = calculate_sha256(f\"{C}|{ephemeralLastSession}\")\n",
    "            \n",
    "    M = kB * C[0]\n",
    "    parameterB = C[1] - M\n",
    "    h2 = calculate_sha256(f\"{C}|{ephemeralLastSession}\")\n",
    "    if h1 == h2:\n",
    "        tableB = createASCIIMap(parameterB, g)\n",
    "        h3 = calculate_sha256(f\"{parameterB}\")\n",
    "        CH1 = xor_sha256_digests(h1, h3)\n",
    "            \n",
    "            \n",
    "    h4 = calculate_sha256(f\"{ephemeral}\")\n",
    "    CH2 = xor_sha256_digests(h1, CH1)\n",
    "    if CH2 == h4:\n",
    "        tableA = createASCIIMap(ephemeral, g)\n",
    "   \n",
    "    \n",
    "    timeTaken = 0\n",
    "    for i in messages:\n",
    "        begin = time.time_ns()\n",
    "        ciphertext = encrytion(i, n, g, QB, tableA)\n",
    "        end1 = time.time_ns()\n",
    "        begin2 = time.time_ns()\n",
    "        d = decrytion(ciphertext, tableB, kB)\n",
    "        end2 = time.time_ns()\n",
    "        encrytionTime += end1 - begin\n",
    "        decrytionTime += end2 - begin2\n",
    "    return (encrytionTime / quantity, decrytionTime / quantity)"
   ]
  },
  {
   "cell_type": "code",
   "execution_count": null,
   "id": "afdae6d1-39f2-431f-9a3e-09cee8c8e92d",
   "metadata": {},
   "outputs": [],
   "source": [
    "def testAuth():\n",
    "    timeTaken = 0\n",
    "    for i in range(100):\n",
    "        begin = time.time()\n",
    "        # secp192r1\n",
    "        # p = int(\"FFFFFFFFFFFFFFFFFFFFFFFFFFFFFFFEFFFFFFFFFFFFFFFF\", base = 16)\n",
    "        # a = int(\"FFFFFFFFFFFFFFFFFFFFFFFFFFFFFFFEFFFFFFFFFFFFFFFC\", base = 16)\n",
    "        # b = int(\"64210519E59C80E70FA7E9AB72243049FEB8DEECC146B9B1\", base = 16)\n",
    "    \n",
    "        # secp224r1 OK\n",
    "        # p = int(\"FFFFFFFFFFFFFFFFFFFFFFFFFFFFFFFF000000000000000000000001\", base = 16)\n",
    "        # a = int(\"FFFFFFFFFFFFFFFFFFFFFFFFFFFFFFFEFFFFFFFFFFFFFFFFFFFFFFFE\", base = 16)\n",
    "        # b = int(\"B4050A850C04B3ABF54132565044B0B7D7BFD8BA270B39432355FFB4\", base = 16)\n",
    "        \n",
    "        # # secp256r1 OK\n",
    "        # p = int(\"FFFFFFFF00000001000000000000000000000000FFFFFFFFFFFFFFFFFFFFFFFF\", base = 16)\n",
    "        # a = int(\"FFFFFFFF00000001000000000000000000000000FFFFFFFFFFFFFFFFFFFFFFFC\", base = 16)\n",
    "        # b = int(\"5AC635D8AA3A93E7B3EBBD55769886BC651D06B0CC53B0F63BCE3C3E27D2604B\", base = 16)\n",
    "        \n",
    "        # # Secp384r1 OK\n",
    "        p = int(\"FFFFFFFFFFFFFFFFFFFFFFFFFFFFFFFFFFFFFFFFFFFFFFFFFFFFFFFFFFFFFFFEFFFFFFFF0000000000000000FFFFFFFF\", base = 16)\n",
    "        a = int(\"FFFFFFFFFFFFFFFFFFFFFFFFFFFFFFFFFFFFFFFFFFFFFFFFFFFFFFFFFFFFFFFEFFFFFFFF0000000000000000FFFFFFFC\", base = 16)\n",
    "        b = int(\"B3312FA7E23EE7E4988E056BE3F82D19181D9C6EFE8141120314088F5013875AC656398D8A2ED19D2A85C8EDD3EC2AEF\", base = 16)\n",
    "        E = EllipticCurve(GF(p),[a, b])\n",
    "        G = E.gens()\n",
    "        g = E.point(G[0])\n",
    "        n = g.order()\n",
    "        kA = randint(1, n)\n",
    "        QA = kA * g\n",
    "        \n",
    "        kB = randint(1, n)\n",
    "        QB = kB * g\n",
    "        ephemeral = genEphemeralParameter(n, g)\n",
    "        ephemeralLastSession = ephemeral \n",
    "            \n",
    "        r = randint(1, n)\n",
    "        C1 = r * g\n",
    "        C2 = r * QB + ephemeral\n",
    "        C = (C1, C2)\n",
    "        h1 = calculate_sha256(f\"{C}|{ephemeralLastSession}\")\n",
    "            \n",
    "        M = kB * C[0]\n",
    "        parameterB = C[1] - M\n",
    "        h2 = calculate_sha256(f\"{C}|{ephemeralLastSession}\")\n",
    "        if h1 == h2:\n",
    "            tableB = createASCIIMap(parameterB, g)\n",
    "            h3 = calculate_sha256(f\"{parameterB}\")\n",
    "            CH1 = xor_sha256_digests(h1, h3)\n",
    "            \n",
    "            \n",
    "        h4 = calculate_sha256(f\"{ephemeral}\")\n",
    "        CH2 = xor_sha256_digests(h1, CH1)\n",
    "        if CH2 == h4:\n",
    "            tableA = createASCIIMap(ephemeral, g)\n",
    "        end = time.time()\n",
    "        timeTaken += end - begin\n",
    "\n",
    "    return round(timeTaken / 100, ndigits=4)"
   ]
  },
  {
   "cell_type": "code",
   "execution_count": null,
   "id": "0104cec3-41b3-424d-b752-6718ecc097ba",
   "metadata": {},
   "outputs": [],
   "source": [
    "testAuth()"
   ]
  },
  {
   "cell_type": "markdown",
   "id": "69b62ae5-4041-4f48-b3a7-63daf1355cc3",
   "metadata": {},
   "source": [
    "## RSA"
   ]
  },
  {
   "cell_type": "code",
   "execution_count": null,
   "id": "51a12b9a-33c5-424e-a3bf-551c3362565a",
   "metadata": {},
   "outputs": [],
   "source": [
    "n = 7680\n",
    "lower_bound = 2**(n - 1)\n",
    "upper_bound = 2**n - 1 # Số lớn nhất có n bit\n",
    "\n",
    "p = random_prime(upper_bound,False,lower_bound)"
   ]
  },
  {
   "cell_type": "code",
   "execution_count": null,
   "id": "d2f5c13b-7919-45b9-97ac-2cc598236c1b",
   "metadata": {},
   "outputs": [],
   "source": [
    "def encodeRSA(message):\n",
    "    encoded = []\n",
    "    for i in message:\n",
    "        encoded.append(ord(i))\n",
    "    return encoded"
   ]
  },
  {
   "cell_type": "code",
   "execution_count": null,
   "id": "e5240b4a-e37e-4d4a-bb99-9bb656970144",
   "metadata": {},
   "outputs": [],
   "source": [
    "def decodeRSA(encode):\n",
    "    return ''.join(map(chr,encode))"
   ]
  },
  {
   "cell_type": "code",
   "execution_count": null,
   "id": "ec3ea09a-1fe2-48bf-84f7-d9474be61d84",
   "metadata": {},
   "outputs": [],
   "source": [
    "def encrytionRSA(message, e, n):\n",
    "    encodeText = encodeRSA(message)\n",
    "    cipherText = []\n",
    "    for i in encodeText:\n",
    "        C = power_mod(i, e, n)\n",
    "        cipherText.append(C)\n",
    "    return cipherText"
   ]
  },
  {
   "cell_type": "code",
   "execution_count": null,
   "id": "1f9e9f3c-0d37-474e-8b18-abfa2b6dffaa",
   "metadata": {},
   "outputs": [],
   "source": [
    "def decrytionRSA(cipher, d, n):\n",
    "    plain = []\n",
    "    for i in cipher:\n",
    "        D = power_mod(i, d, n)\n",
    "        plain.append(D)\n",
    "    return decodeRSA(plain)"
   ]
  },
  {
   "cell_type": "code",
   "execution_count": null,
   "id": "46f84d86-7c3a-4803-b71b-c15a88d69229",
   "metadata": {},
   "outputs": [],
   "source": [
    "def test_rsa(bit, messageBit, quantity):\n",
    "    \n",
    "\n",
    "    message = createRandomMessage(messageBit, quantity)\n",
    "    encrytionTime = 0\n",
    "    decrytionTime = 0\n",
    "    lower_bound = 2**(bit - 1)\n",
    "    upper_bound = 2**bit - 1 # Số lớn nhất có n bit\n",
    "\n",
    "    p = random_prime(upper_bound,False,lower_bound)\n",
    "    q = random_prime(upper_bound,False,lower_bound)\n",
    "    \n",
    "    n = p * q\n",
    "    phi_n = (p - 1) * (q - 1)\n",
    "    \n",
    "    \n",
    "    for m in message:\n",
    "        e = randint(1, phi_n)\n",
    "        while gcd(e, phi_n) != 1:\n",
    "            e = randint(1, phi_n)\n",
    "        d = inverse_mod(e, phi_n)\n",
    "        \n",
    "        begin = time.time()\n",
    "        E = encrytionRSA(m, e, n)\n",
    "        end1 = time.time()\n",
    "        \n",
    "        D = decrytionRSA(E, d, n)\n",
    "        end2 = time.time()\n",
    "        encrytionTime += end1 - begin\n",
    "        decrytionTime += end2 - end1\n",
    "    return (encrytionTime / quantity, decrytionTime / quantity)"
   ]
  },
  {
   "cell_type": "markdown",
   "id": "b93bbc45-d766-40e8-a5b1-aa36556b6e3e",
   "metadata": {},
   "source": [
    "## Test"
   ]
  },
  {
   "cell_type": "code",
   "execution_count": null,
   "id": "3b98474f-9280-4b45-aef4-1be8396695c8",
   "metadata": {},
   "outputs": [],
   "source": [
    "testECEG = test(8, 100); testECEG"
   ]
  },
  {
   "cell_type": "code",
   "execution_count": null,
   "id": "8c70c1e2-bb41-4136-8511-8b7a9739c650",
   "metadata": {},
   "outputs": [],
   "source": [
    "timeECEG = []"
   ]
  },
  {
   "cell_type": "code",
   "execution_count": null,
   "id": "1c1af8d6-a056-406c-a181-3f279db3d234",
   "metadata": {},
   "outputs": [],
   "source": [
    "timeECEG.append(testECEG)"
   ]
  },
  {
   "cell_type": "code",
   "execution_count": null,
   "id": "4824e8b0-df8a-41cc-a26d-f05bdcbc5aa4",
   "metadata": {},
   "outputs": [],
   "source": [
    "testRSA = test_rsa(7980, 256, 30); testRSA"
   ]
  },
  {
   "cell_type": "code",
   "execution_count": null,
   "id": "bea7fb9c-56c5-42da-8d87-a0335e24c676",
   "metadata": {},
   "outputs": [],
   "source": [
    "timeRSA = []"
   ]
  },
  {
   "cell_type": "code",
   "execution_count": null,
   "id": "7c79246d-fcf3-4b8f-9441-9c3fa0e9528b",
   "metadata": {},
   "outputs": [],
   "source": [
    "timeRSA.append(testRSA)"
   ]
  },
  {
   "cell_type": "code",
   "execution_count": null,
   "id": "cff4636f-ed29-414f-821c-6c4b726cee6c",
   "metadata": {},
   "outputs": [],
   "source": [
    "import matplotlib.pyplot as plt\n",
    "import numpy as np\n",
    "# --- Hàm để thêm nhãn dữ liệu ---\n",
    "def autolabel(rects, vertical_offset=0.2):\n",
    "    \"\"\"Gắn nhãn văn bản phía trên mỗi thanh trong *rects*, hiển thị chiều cao của nó.\"\"\"\n",
    "    for rect in rects:\n",
    "        height = rect.get_height()\n",
    "        ax.text(rect.get_x() + rect.get_width() / 2.,  # Vị trí X (tâm thanh)\n",
    "                height + vertical_offset,              # Vị trí Y (trên thanh + offset)\n",
    "                f'{height:.1f}',                      # Văn bản nhãn (định dạng 1 chữ số thập phân)\n",
    "                ha='center', va='bottom',              # Căn chỉnh ngang và dọc\n",
    "                fontsize=9)                           # Kích thước phông chữ (tùy chọn)\n",
    "# ---------------------------------\n",
    "\n",
    "# 1. Dữ liệu (Ước tính từ hình ảnh của bạn - **Sử dụng dữ liệu thực tế của bạn**)\n",
    "key_sizes = [112, 128, 192]  # Giá trị trục X\n",
    "eceg_times = [0.2169, 0.2229, 0.4316]  # Chiều cao thanh màu xanh lam\n",
    "rsa_times = [0.0254, 0.0696, 0.7228] # Chiều cao thanh màu đỏ\n",
    "\n",
    "# 2. Thiết lập vị trí thanh trên trục X\n",
    "x = np.arange(len(key_sizes))  # Vị trí nhãn (0, 1, 2, 3)\n",
    "width = 0.2  # Chiều rộng của MỖI thanh\n",
    "gap = 0.05    # Khoảng cách mong muốn giữa thanh xanh và đỏ trong một nhóm\n",
    "\n",
    "# Tính toán vị trí tâm mới cho mỗi thanh để tạo khoảng cách\n",
    "offset = width / 2 + gap / 2\n",
    "\n",
    "# 3. Tạo biểu đồ\n",
    "fig, ax = plt.subplots(figsize=(8, 5)) # Bạn có thể điều chỉnh kích thước nếu cần\n",
    "\n",
    "# Vẽ các thanh tại các vị trí đã được điều chỉnh\n",
    "rects1 = ax.bar(x - offset, eceg_times, width, label='Enhanced ECEG Total Time', color='tab:blue')\n",
    "rects2 = ax.bar(x + offset, rsa_times, width, label='RSA Total Time', color='tab:red')\n",
    "\n",
    "# 4. Thêm nhãn, tiêu đề và chú giải\n",
    "ax.set_ylabel('Total Time (ms)') # Thêm nhãn trục Y nếu bạn muốn\n",
    "# ax.set_xlabel('Key Size') # Thêm nhãn trục X nếu bạn muốn\n",
    "ax.set_title('8-bits')\n",
    "ax.set_xticks(x)\n",
    "ax.set_xticklabels(key_sizes) # Đặt nhãn trục X thành kích thước khóa thực tế\n",
    "\n",
    "# Đặt giới hạn và dấu kiểm trục Y để khớp với hình ảnh gốc\n",
    "ax.set_ylim(0, 1)\n",
    "ax.set_yticks(np.arange(0, 1, 0.1)) # Tạo dấu kiểm từ 0 đến 16 với khoảng cách 2\n",
    "\n",
    "# Thêm đường lưới ngang mờ nhạt tương tự như bản gốc\n",
    "ax.yaxis.grid(True, linestyle='-', linewidth=0.5, color='lightgrey')\n",
    "ax.set_axisbelow(True) # Đảm bảo lưới nằm sau các thanh\n",
    "# --- Gọi hàm autolabel cho cả hai bộ thanh ---\n",
    "autolabel(rects1)\n",
    "autolabel(rects2)\n",
    "# -------------------------------------------\n",
    "# Thêm chú giải\n",
    "ax.legend()\n",
    "\n",
    "# 5. Hiển thị biểu đồ\n",
    "plt.tight_layout() # Điều chỉnh bố cục để tránh chồng chéo\n",
    "fig1 = plt.gcf()\n",
    "plt.show()\n",
    "plt.draw()\n",
    "fig1.savefig('8bit.png', dpi=100)"
   ]
  },
  {
   "cell_type": "code",
   "execution_count": null,
   "id": "336b117a-ac0f-441e-a3ba-7819f36d5306",
   "metadata": {},
   "outputs": [],
   "source": [
    "timeRSA"
   ]
  }
 ],
 "metadata": {
  "kernelspec": {
   "display_name": "SageMath 10.5",
   "language": "sage",
   "name": "sagemath"
  },
  "language_info": {
   "codemirror_mode": {
    "name": "ipython",
    "version": 3
   },
   "file_extension": ".py",
   "mimetype": "text/x-python",
   "name": "python",
   "nbconvert_exporter": "python",
   "pygments_lexer": "ipython3",
   "version": "3.12.10"
  }
 },
 "nbformat": 4,
 "nbformat_minor": 5
}
